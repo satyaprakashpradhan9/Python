{
 "cells": [
  {
   "cell_type": "code",
   "execution_count": null,
   "id": "08ff534e-3258-41ba-b990-116aa57f22c3",
   "metadata": {},
   "outputs": [],
   "source": [
    "## Project:"
   ]
  },
  {
   "cell_type": "code",
   "execution_count": 3,
   "id": "07be5d1f-553b-4606-957c-84fdb8052c7e",
   "metadata": {},
   "outputs": [
    {
     "name": "stdout",
     "output_type": "stream",
     "text": [
      "      ID     Project       Cost    Status     City  Age  First Name  \\\n",
      "1   A002   Project 2  2000000.0   Ongoing   London   27  Mrs. Alice   \n",
      "3   A004   Project 4  5500000.0   Ongoing  Newyork   31   Mrs. Nina   \n",
      "5   A002   Project 6   680000.0    Failed   London   27  Mrs. Alice   \n",
      "11  A004  Project 12  1000000.0   Ongoing  Newyork   31   Mrs. Nina   \n",
      "12  A004  Project 13  3000000.0  Finished  Newyork   31   Mrs. Nina   \n",
      "\n",
      "    Last Name  Designation Level     Bonus  \n",
      "1   Luxumberg                  2       0.0  \n",
      "3       Adgra                  1       0.0  \n",
      "5   Luxumberg                  2       0.0  \n",
      "11      Adgra                  1       0.0  \n",
      "12      Adgra                  1  150000.0  \n"
     ]
    }
   ],
   "source": [
    "import pandas as pd\n",
    "import numpy as np\n",
    "\n",
    "# Task 1: Creating DataFrames and saving them as CSV formate\n",
    "employee_data = {\n",
    "    \"ID\": [\"A001\", \"A002\", \"A003\", \"A004\", \"A005\"],\n",
    "    \"Name\": [\"John Alter\", \"Alice Luxumberg\", \"Tom Sabestine\", \"Nina Adgra\", \"Amy Johny\"],\n",
    "    \"Gender\": [\"M\", \"F\", \"M\", \"F\", \"F\"],\n",
    "    \"City\": [\"Paris\", \"London\", \"Berlin\", \"Newyork\", \"Madrid\"],\n",
    "    \"Age\": [25, 27, 29, 31, 30]\n",
    "}\n",
    "\n",
    "designation_data = {\n",
    "    \"ID\": [\"A001\", \"A002\", \"A003\", \"A004\", \"A005\"],\n",
    "    \"Designation Level\": [2, 2, 3, 2, 3]\n",
    "}\n",
    "\n",
    "project_data = {\n",
    "    \"ID\": [\"A001\", \"A002\", \"A003\", \"A004\", \"A005\", \"A002\", \"A005\", \"A003\", \"A001\", \"A003\", \"A001\", \"A004\", \"A004\", \"A005\"],\n",
    "    \"Project\": [\"Project 1\", \"Project 2\", \"Project 3\", \"Project 4\", \"Project 5\", \"Project 6\", \"Project 7\", \"Project 8\", \"Project 9\", \"Project 10\", \"Project 11\", \"Project 12\", \"Project 13\", \"Project 14\"],\n",
    "    \"Cost\": [1002000, 2000000, 4500000, 5500000, np.nan, 680000, 400000, 350000, np.nan, 300000, 2000000, 1000000, 3000000, 200000],\n",
    "    \"Status\": [\"Finished\", \"Ongoing\", \"Finished\", \"Ongoing\", \"Finished\", \"Failed\", \"Finished\", \"Failed\", \"Ongoing\", \"Finished\", \"Failed\", \"Ongoing\", \"Finished\", \"Finished\"]\n",
    "}\n",
    "\n",
    "employee_df = pd.DataFrame(employee_data)\n",
    "designation_df = pd.DataFrame(designation_data)\n",
    "project_df = pd.DataFrame(project_data)\n",
    "\n",
    "employee_df.to_csv(\"Employee.csv\", index=False)\n",
    "designation_df.to_csv(\"Seniority.csv\", index=False)\n",
    "project_df.to_csv(\"Project.csv\", index=False)\n",
    "\n",
    "# Task 2: Replace the missing cost values with running average\n",
    "costs = project_df[\"Cost\"].copy()\n",
    "for i in range(len(costs)):\n",
    "    if pd.isnull(costs[i]):\n",
    "        costs[i] = np.mean(costs[:i][costs[:i].notnull()])\n",
    "project_df[\"Cost\"] = costs\n",
    "\n",
    "# Task 3: Split the Name column into First Name and Last Name accordingly\n",
    "employee_df[\"Name\"] = employee_df[\"Name\"].astype(str)\n",
    "employee_df[[\"First Name\", \"Last Name\"]] = employee_df[\"Name\"].str.split(n=1, expand=True)\n",
    "employee_df.drop(columns=[\"Name\"], inplace=True)\n",
    "\n",
    "# Task 4: Merge all three dataframes\n",
    "final_df = project_df.merge(employee_df, on=\"ID\").merge(designation_df, on=\"ID\")\n",
    "\n",
    "# Task 5: Add a Bonus column\n",
    "final_df[\"Bonus\"] = np.where(final_df[\"Status\"] == \"Finished\", final_df[\"Cost\"] * 0.05, 0)\n",
    "\n",
    "# Task 6: Demote designation level by 1 for failed projects\n",
    "failed_employees = final_df[final_df[\"Status\"] == \"Failed\"][\"ID\"].unique()\n",
    "for emp in failed_employees:\n",
    "    designation_df.loc[designation_df[\"ID\"] == emp, \"Designation Level\"] += 1\n",
    "    if designation_df.loc[designation_df[\"ID\"] == emp, \"Designation Level\"].values[0] > 4:\n",
    "        designation_df = designation_df[designation_df[\"ID\"] != emp]\n",
    "\n",
    "# Task 7: Add Mr./Mrs. and remove Gender\n",
    "final_df[\"First Name\"] = np.where(final_df[\"Gender\"] == \"M\", \"Mr. \" + final_df[\"First Name\"], \"Mrs. \" + final_df[\"First Name\"])\n",
    "final_df.drop(columns=[\"Gender\"], inplace=True)\n",
    "\n",
    "# Task 8: Promote designation for employees older than 29\n",
    "final_df.loc[final_df[\"Age\"] > 29, \"Designation Level\"] -= 1\n",
    "\n",
    "# Task 9: Create TotalProjCost dataframe\n",
    "total_proj_cost = final_df.groupby([\"ID\", \"First Name\"]).agg({\"Cost\": \"sum\"}).reset_index()\n",
    "total_proj_cost.rename(columns={\"Cost\": \"Total Cost\"}, inplace=True)\n",
    "\n",
    "# Task 10: Print employees whose city contains 'o'\n",
    "filtered_employees = final_df[final_df[\"City\"].str.contains(\"o\", case=False, na=False)]\n",
    "print(filtered_employees)\n"
   ]
  },
  {
   "cell_type": "code",
   "execution_count": null,
   "id": "a1a6b582-f9fb-4637-a10c-86ff2370975c",
   "metadata": {},
   "outputs": [],
   "source": [
    "## Conclusion: \n",
    "\n",
    "The final dataset successfully filters employees based on city names containing the letter \"o,\" accurately retrieving relevant records.\n",
    "Employees such as Alice Luxumberg and Nina Adgra appear in the output, confirming correct implementation of the condition. \n",
    "Designation levels were adjusted based on project failures and promotions, ensuring accurate career progression tracking.\n",
    "Additionally, the bonus calculation correctly applied a 5% incentive for completed projects, as seen in Nina Adgra’s earnings. \n",
    "The modification of names by adding \"Mr.\" and \"Mrs.\" was implemented effectively, improving data readability. \n",
    "Overall, the project demonstrates strong data manipulation skills using Pandas and NumPy, ensuring proper handling of missing values, \n",
    "merging datasets, and applying conditional logic efficiently."
   ]
  },
  {
   "cell_type": "code",
   "execution_count": null,
   "id": "2fe45424-957a-4d6a-98c8-d0234fe065a8",
   "metadata": {},
   "outputs": [],
   "source": []
  }
 ],
 "metadata": {
  "kernelspec": {
   "display_name": "Python 3 (ipykernel)",
   "language": "python",
   "name": "python3"
  },
  "language_info": {
   "codemirror_mode": {
    "name": "ipython",
    "version": 3
   },
   "file_extension": ".py",
   "mimetype": "text/x-python",
   "name": "python",
   "nbconvert_exporter": "python",
   "pygments_lexer": "ipython3",
   "version": "3.12.4"
  }
 },
 "nbformat": 4,
 "nbformat_minor": 5
}
